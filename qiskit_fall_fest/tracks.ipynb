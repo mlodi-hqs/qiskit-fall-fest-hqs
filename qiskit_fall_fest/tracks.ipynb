{
 "cells": [
  {
   "cell_type": "markdown",
   "id": "bf63b550",
   "metadata": {},
   "source": [
    "# Advanced track: Predicting NMR spectra on a quantum computer — from 2 spins to 12, and beyond\n"
   ]
  },
  {
   "cell_type": "markdown",
   "id": "c3ba1909",
   "metadata": {},
   "source": [
    "\n",
    "\n",
    "In this part, we look into NMR spectroscopy and how to simulate spectra efficiently.\n",
    "\n",
    "- What NMR is: it measures nuclear spin precession, turning local chemistry into a spectrum.\n",
    "- What spectra show: Chemical shifts (environments) and J couplings (connectivity).\n",
    "- Why it matters in pharma/medicine: it confirms small‑molecule structure and purity, supports medicinal chemistry decisions, quantifies APIs for quality control (qNMR), and via related methods probes protein–ligand binding and metabolic profiles.\n",
    "- Why simulate: to predict spectra from spin dynamics; scale to larger, drug‑like systems.\n",
    "- Your **advanced task**: Replace the exponential sum over X‑basis states with a smart, low‑sample approximation that preserves spectral features.\n",
    "\n",
    "## Motivation\n",
    "A direct eigenstate expansion of the trace scales as $2^N$ initial states. Even using only the “positive magnetization” half (by SU(2) symmetry) leaves $2^{N-1}$ states — still exponential!\n",
    "\n",
    "## The identity you are approximating\n",
    "$$\n",
    "\\mathrm{Tr}\\!\\big(I_{x/y}^{\\mathrm{tot}}(t)\\, I_x^{\\mathrm{tot}}(0)\\big)\n",
    "= \\sum_{n} m_{x,n}(0)\\,\\langle m_{x,n}(t)\\,|\\, I_{x/y}^{\\mathrm{tot}} \\,|\\, m_{x,n}(t)\\rangle,\n",
    "$$\n",
    "where each term corresponds to an X‑basis product state and $m_{x,n}(0)$ is its total X‑magnetization.\n",
    "\n",
    "**Your challenge:** Design and implement a method that approximates this trace with far fewer than $2^{N-1}$ initial states — yet still matches the exact spectrum within tolerance.\n",
    "\n",
    "## Ideas you may consider (choose any combo and be creative)\n",
    "- **Typicality / stochastic trace estimation**\n",
    "  - Replace the full sum by an average over a handful of random “typical” states (e.g., random Z‑phase kicks on $|++\\cdots+\\rangle)$, with variance‑reduction tricks).\n",
    "- **Importance sampling over X‑basis bitstrings**\n",
    "  - Sample bitstrings with a smart distribution (e.g., weighted by $m_0^2$ or other heuristics), then reweight in the estimator.\n",
    "\n",
    "\n",
    "## What we provide for the advanced task\n",
    "- A 12‑spin molecule for development.\n",
    "- A hidden evaluation molecule for final scoring to test generalization.\n",
    "\n",
    "## Scoring rubric (advanced)\n",
    "- **Accuracy (60%)**: agreement of your spectrum with the exact reference on the hidden molecule (peak positions/splittings; we’ll use an L2 metric on normalized spectra around peak regions).\n",
    "- **Efficiency (30%)**: how many initial states (or equivalent samples) you needed to reach that accuracy.\n",
    "- **Clarity (10%)**: brief README explaining your idea, assumptions, and when it should work.\n",
    "\n",
    "## Deliverables\n",
    "- A notebook or Python script that runs end‑to‑end on the provided 12‑spin input and prints/plots:\n",
    "  - number of initial states (or samples) used\n",
    "  - the simulated spectrum\n",
    "- A short README: method summary, parameters to tune, expected scaling, and failure modes.\n",
    "\n",
    "\n",
    "## What success looks like\n",
    "- A spectrum for the hidden molecule that overlays well with the exact result, achieved with orders‑of‑magnitude fewer initial states than $2^{N-1}$, along with a clear explanation of how you did it.\n",
    "\n",
    "We’re excited to see clever ways to beat exponential scaling without sacrificing spectral fidelity. Good luck! And have fun pushing NMR on quantum circuits to larger molecules!"
   ]
  },
  {
   "cell_type": "markdown",
   "id": "3378a4fc",
   "metadata": {},
   "source": []
  }
 ],
 "metadata": {
  "language_info": {
   "name": "python"
  }
 },
 "nbformat": 4,
 "nbformat_minor": 5
}
